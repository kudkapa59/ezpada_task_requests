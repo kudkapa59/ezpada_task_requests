{
 "cells": [
  {
   "cell_type": "markdown",
   "id": "413bab91",
   "metadata": {},
   "source": [
    "# Entering the correct webpage"
   ]
  },
  {
   "cell_type": "markdown",
   "id": "670e39a9",
   "metadata": {},
   "source": [
    "As we need to click some necessary buttons upon entering the website, I used Selenium. I attached its webdriver in the folder I sent to you. However, it's for Chrome web-browser. If you need Firefox, it's also possible, you can just download it and attach it to this folder.<br>"
   ]
  },
  {
   "cell_type": "code",
   "execution_count": 199,
   "id": "228ea492",
   "metadata": {},
   "outputs": [],
   "source": [
    "#!pip install selenium   #Uncomment if you don't have selenium package installed"
   ]
  },
  {
   "cell_type": "code",
   "execution_count": 197,
   "id": "b146f265",
   "metadata": {},
   "outputs": [],
   "source": [
    "import requests\n",
    "import time\n",
    "import os\n",
    "import pandas as pd\n",
    "from selenium import webdriver\n",
    "from bs4 import BeautifulSoup as bs"
   ]
  },
  {
   "cell_type": "code",
   "execution_count": 203,
   "id": "eaeb6322",
   "metadata": {},
   "outputs": [],
   "source": [
    "cwd = os.getcwd()\n",
    "PATH = cwd+'\\\\chromedriver.exe'"
   ]
  },
  {
   "cell_type": "code",
   "execution_count": 204,
   "id": "55709477",
   "metadata": {},
   "outputs": [
    {
     "name": "stderr",
     "output_type": "stream",
     "text": [
      "C:\\Users\\Kapa\\AppData\\Local\\Temp/ipykernel_6484/2924679570.py:2: DeprecationWarning: executable_path has been deprecated, please pass in a Service object\n",
      "  driver = webdriver.Chrome(PATH)\n"
     ]
    },
    {
     "name": "stdout",
     "output_type": "stream",
     "text": [
      "PAJ Oil Statistics Weekly\n"
     ]
    },
    {
     "name": "stderr",
     "output_type": "stream",
     "text": [
      "C:\\Users\\Kapa\\AppData\\Local\\Temp/ipykernel_6484/2924679570.py:6: DeprecationWarning: find_element_by_* commands are deprecated. Please use find_element() instead\n",
      "  link = driver.find_element_by_link_text('Agree')\n",
      "C:\\Users\\Kapa\\AppData\\Local\\Temp/ipykernel_6484/2924679570.py:8: DeprecationWarning: find_element_by_* commands are deprecated. Please use find_element() instead\n",
      "  link = driver.find_element_by_link_text('All Japan')\n"
     ]
    }
   ],
   "source": [
    "driver = webdriver.Chrome(PATH)\n",
    "\n",
    "driver.get('https://stats.paj.gr.jp/en/pub/index.html')\n",
    "print(driver.title)\n",
    "link = driver.find_element_by_link_text('Agree')\n",
    "link.click()\n",
    "link = driver.find_element_by_link_text('All Japan')\n",
    "link.click()   #Entered the correct page"
   ]
  },
  {
   "cell_type": "code",
   "execution_count": 205,
   "id": "78af23ca",
   "metadata": {},
   "outputs": [
    {
     "name": "stdout",
     "output_type": "stream",
     "text": [
      "https://stats.paj.gr.jp/en/pub/current_en_n2.html\n"
     ]
    }
   ],
   "source": [
    "url = driver.current_url\n",
    "print(url)"
   ]
  },
  {
   "cell_type": "code",
   "execution_count": 144,
   "id": "b51b407c",
   "metadata": {},
   "outputs": [
    {
     "name": "stderr",
     "output_type": "stream",
     "text": [
      "C:\\Users\\Kapa\\AppData\\Local\\Temp/ipykernel_6484/2033566898.py:1: DeprecationWarning: find_element_by_* commands are deprecated. Please use find_element() instead\n",
      "  r = driver.find_element_by_xpath(\"/html/body\").text\n"
     ]
    }
   ],
   "source": [
    "r = driver.find_element_by_xpath(\"/html/body\").text\n",
    "soup = bs(r)\n",
    "contents = soup.prettify()"
   ]
  },
  {
   "cell_type": "code",
   "execution_count": 12,
   "id": "b6abc1e2",
   "metadata": {},
   "outputs": [],
   "source": [
    "#print(contents)"
   ]
  },
  {
   "cell_type": "markdown",
   "id": "78a1ce04",
   "metadata": {},
   "source": [
    "# Creation of dataframes "
   ]
  },
  {
   "cell_type": "markdown",
   "id": "ac6e6516",
   "metadata": {},
   "source": [
    "Here I used just simple pandas methods to export each dataframe to its own <b>csv</b> file."
   ]
  },
  {
   "cell_type": "markdown",
   "id": "10a252e7",
   "metadata": {},
   "source": [
    "## 1.Refinery Operations"
   ]
  },
  {
   "cell_type": "code",
   "execution_count": 206,
   "id": "b1b42bf9",
   "metadata": {},
   "outputs": [
    {
     "name": "stderr",
     "output_type": "stream",
     "text": [
      "C:\\Users\\Kapa\\AppData\\Local\\Temp/ipykernel_6484/3509500929.py:1: DeprecationWarning: find_elements_by_* commands are deprecated. Please use find_elements() instead\n",
      "  target = driver.find_elements_by_xpath(\"(//TABLE[@cellpadding='5'])[2]\")\n"
     ]
    }
   ],
   "source": [
    "target = driver.find_elements_by_xpath(\"(//TABLE[@cellpadding='5'])[2]\")"
   ]
  },
  {
   "cell_type": "code",
   "execution_count": 207,
   "id": "aa9f28b0",
   "metadata": {},
   "outputs": [],
   "source": [
    "refinery_operations = pd.read_html(target[0].get_attribute('outerHTML'),header=0)[0]"
   ]
  },
  {
   "cell_type": "code",
   "execution_count": 208,
   "id": "0ac83d1b",
   "metadata": {
    "scrolled": false
   },
   "outputs": [],
   "source": [
    "refinery_operations.drop(['Unnamed: 5','Unnamed: 6','Unnamed: 0'],axis=1,inplace=True)\n",
    "refinery_operations.drop([6,7],axis=0,inplace=True)\n",
    "refinery_operations = refinery_operations.rename(columns={'Unnamed: 1': 'Quantities',\\\n",
    "                        'Current Week02/Jan/2022-08/Jan': 'Current Week 02/Jan/2022-08/Jan',\\\n",
    "                        'Last Week26/Dec/2021-01/Jan': 'Last Week 26/Dec/2021-01/Jan'})"
   ]
  },
  {
   "cell_type": "code",
   "execution_count": 209,
   "id": "a68a1686",
   "metadata": {},
   "outputs": [],
   "source": [
    "refinery_operations.fillna('', inplace=True)"
   ]
  },
  {
   "cell_type": "code",
   "execution_count": 210,
   "id": "b079540f",
   "metadata": {},
   "outputs": [],
   "source": [
    "refinery_operations.to_csv('refinery_operations.csv',index=False)"
   ]
  },
  {
   "cell_type": "code",
   "execution_count": 211,
   "id": "9b6b5eff",
   "metadata": {},
   "outputs": [
    {
     "data": {
      "text/html": [
       "<div>\n",
       "<style scoped>\n",
       "    .dataframe tbody tr th:only-of-type {\n",
       "        vertical-align: middle;\n",
       "    }\n",
       "\n",
       "    .dataframe tbody tr th {\n",
       "        vertical-align: top;\n",
       "    }\n",
       "\n",
       "    .dataframe thead th {\n",
       "        text-align: right;\n",
       "    }\n",
       "</style>\n",
       "<table border=\"1\" class=\"dataframe\">\n",
       "  <thead>\n",
       "    <tr style=\"text-align: right;\">\n",
       "      <th></th>\n",
       "      <th>Quantities</th>\n",
       "      <th>Current Week 02/Jan/2022-08/Jan</th>\n",
       "      <th>Last Week 26/Dec/2021-01/Jan</th>\n",
       "      <th>Change from Last Week</th>\n",
       "    </tr>\n",
       "  </thead>\n",
       "  <tbody>\n",
       "    <tr>\n",
       "      <th>0</th>\n",
       "      <td>Crude Input(KL)</td>\n",
       "      <td>3231537</td>\n",
       "      <td>3241896</td>\n",
       "      <td>-10359.0</td>\n",
       "    </tr>\n",
       "    <tr>\n",
       "      <th>1</th>\n",
       "      <td>Topper Unit Capacity</td>\n",
       "      <td></td>\n",
       "      <td></td>\n",
       "      <td></td>\n",
       "    </tr>\n",
       "    <tr>\n",
       "      <th>2</th>\n",
       "      <td>Weekly Average Capacity(BPSD)</td>\n",
       "      <td>3422700</td>\n",
       "      <td>3422700</td>\n",
       "      <td>0.0</td>\n",
       "    </tr>\n",
       "    <tr>\n",
       "      <th>3</th>\n",
       "      <td>Util. Rate against BPSD</td>\n",
       "      <td>84.8%</td>\n",
       "      <td>85.1%</td>\n",
       "      <td></td>\n",
       "    </tr>\n",
       "    <tr>\n",
       "      <th>4</th>\n",
       "      <td>Designed Capacity(BPCD)</td>\n",
       "      <td>3457800</td>\n",
       "      <td>3457800</td>\n",
       "      <td>0.0</td>\n",
       "    </tr>\n",
       "    <tr>\n",
       "      <th>5</th>\n",
       "      <td>Util. Rate against BPCD</td>\n",
       "      <td>84.0%</td>\n",
       "      <td>84.2%</td>\n",
       "      <td></td>\n",
       "    </tr>\n",
       "  </tbody>\n",
       "</table>\n",
       "</div>"
      ],
      "text/plain": [
       "                      Quantities Current Week 02/Jan/2022-08/Jan  \\\n",
       "0                Crude Input(KL)                         3231537   \n",
       "1           Topper Unit Capacity                                   \n",
       "2  Weekly Average Capacity(BPSD)                         3422700   \n",
       "3        Util. Rate against BPSD                           84.8%   \n",
       "4        Designed Capacity(BPCD)                         3457800   \n",
       "5        Util. Rate against BPCD                           84.0%   \n",
       "\n",
       "  Last Week 26/Dec/2021-01/Jan Change from Last Week  \n",
       "0                      3241896              -10359.0  \n",
       "1                                                     \n",
       "2                      3422700                   0.0  \n",
       "3                        85.1%                        \n",
       "4                      3457800                   0.0  \n",
       "5                        84.2%                        "
      ]
     },
     "execution_count": 211,
     "metadata": {},
     "output_type": "execute_result"
    }
   ],
   "source": [
    "refinery_operations"
   ]
  },
  {
   "cell_type": "markdown",
   "id": "5fa9cf4a",
   "metadata": {},
   "source": [
    "## 2.Products Stocks"
   ]
  },
  {
   "cell_type": "code",
   "execution_count": 160,
   "id": "325c6ce6",
   "metadata": {},
   "outputs": [
    {
     "name": "stderr",
     "output_type": "stream",
     "text": [
      "C:\\Users\\Kapa\\AppData\\Local\\Temp/ipykernel_6484/916477609.py:1: DeprecationWarning: find_elements_by_* commands are deprecated. Please use find_elements() instead\n",
      "  target = driver.find_elements_by_xpath(\"(//TABLE[@cellpadding='5'])[3]\")\n"
     ]
    }
   ],
   "source": [
    "target = driver.find_elements_by_xpath(\"(//TABLE[@cellpadding='5'])[3]\")\n",
    "products_stocks = pd.read_html(target[0].get_attribute('outerHTML'),header=0)[0]"
   ]
  },
  {
   "cell_type": "code",
   "execution_count": 161,
   "id": "02848566",
   "metadata": {},
   "outputs": [],
   "source": [
    "products_stocks.fillna('',inplace=True)\n",
    "products_stocks = products_stocks.rename(columns={'Unnamed: 0': 'Products','Unnamed: 1': 'Characteristics',\\\n",
    "                        'Current Week02/Jan/2022-08/Jan': 'Current Week 02/Jan/2022-08/Jan',\\\n",
    "                        'Last Week26/Dec/2021-01/Jan': 'Last Week 26/Dec/2021-01/Jan'})\n",
    "products_stocks['Products'] = products_stocks['Products'] + ' (kl)'"
   ]
  },
  {
   "cell_type": "code",
   "execution_count": 163,
   "id": "0be58e35",
   "metadata": {},
   "outputs": [],
   "source": [
    "products_stocks.to_csv('products_stocks.csv',index=False)"
   ]
  },
  {
   "cell_type": "code",
   "execution_count": 195,
   "id": "9656f357",
   "metadata": {},
   "outputs": [
    {
     "data": {
      "text/html": [
       "<style  type=\"text/css\" >\n",
       "#T_7a53e_row0_col0,#T_7a53e_row0_col1,#T_7a53e_row0_col2,#T_7a53e_row0_col3,#T_7a53e_row0_col4,#T_7a53e_row1_col0,#T_7a53e_row1_col1,#T_7a53e_row1_col2,#T_7a53e_row1_col3,#T_7a53e_row1_col4,#T_7a53e_row2_col0,#T_7a53e_row2_col1,#T_7a53e_row2_col2,#T_7a53e_row2_col3,#T_7a53e_row2_col4,#T_7a53e_row3_col0,#T_7a53e_row3_col1,#T_7a53e_row3_col2,#T_7a53e_row3_col3,#T_7a53e_row3_col4,#T_7a53e_row4_col0,#T_7a53e_row4_col1,#T_7a53e_row4_col2,#T_7a53e_row4_col3,#T_7a53e_row4_col4,#T_7a53e_row5_col0,#T_7a53e_row5_col1,#T_7a53e_row5_col2,#T_7a53e_row5_col3,#T_7a53e_row5_col4,#T_7a53e_row6_col0,#T_7a53e_row6_col1,#T_7a53e_row6_col2,#T_7a53e_row6_col3,#T_7a53e_row6_col4,#T_7a53e_row7_col0,#T_7a53e_row7_col1,#T_7a53e_row7_col2,#T_7a53e_row7_col3,#T_7a53e_row7_col4,#T_7a53e_row8_col0,#T_7a53e_row8_col1,#T_7a53e_row8_col2,#T_7a53e_row8_col3,#T_7a53e_row8_col4,#T_7a53e_row9_col0,#T_7a53e_row9_col1,#T_7a53e_row9_col2,#T_7a53e_row9_col3,#T_7a53e_row9_col4,#T_7a53e_row10_col0,#T_7a53e_row10_col1,#T_7a53e_row10_col2,#T_7a53e_row10_col3,#T_7a53e_row10_col4,#T_7a53e_row11_col0,#T_7a53e_row11_col1,#T_7a53e_row11_col2,#T_7a53e_row11_col3,#T_7a53e_row11_col4{\n",
       "            text-align:  center;\n",
       "        }</style><table id=\"T_7a53e_\" ><thead>    <tr>        <th class=\"blank level0\" ></th>        <th class=\"col_heading level0 col0\" >Products</th>        <th class=\"col_heading level0 col1\" >Characteristics</th>        <th class=\"col_heading level0 col2\" >Current Week 02/Jan/2022-08/Jan</th>        <th class=\"col_heading level0 col3\" >Last Week 26/Dec/2021-01/Jan</th>        <th class=\"col_heading level0 col4\" >Change from Last Week</th>    </tr></thead><tbody>\n",
       "                <tr>\n",
       "                        <th id=\"T_7a53e_level0_row0\" class=\"row_heading level0 row0\" >0</th>\n",
       "                        <td id=\"T_7a53e_row0_col0\" class=\"data row0 col0\" >Gasoline (kl)</td>\n",
       "                        <td id=\"T_7a53e_row0_col1\" class=\"data row0 col1\" ></td>\n",
       "                        <td id=\"T_7a53e_row0_col2\" class=\"data row0 col2\" >1560177</td>\n",
       "                        <td id=\"T_7a53e_row0_col3\" class=\"data row0 col3\" >1610855</td>\n",
       "                        <td id=\"T_7a53e_row0_col4\" class=\"data row0 col4\" >-50678</td>\n",
       "            </tr>\n",
       "            <tr>\n",
       "                        <th id=\"T_7a53e_level0_row1\" class=\"row_heading level0 row1\" >1</th>\n",
       "                        <td id=\"T_7a53e_row1_col0\" class=\"data row1 col0\" >Naphtha (kl)</td>\n",
       "                        <td id=\"T_7a53e_row1_col1\" class=\"data row1 col1\" ></td>\n",
       "                        <td id=\"T_7a53e_row1_col2\" class=\"data row1 col2\" >1284014</td>\n",
       "                        <td id=\"T_7a53e_row1_col3\" class=\"data row1 col3\" >1393596</td>\n",
       "                        <td id=\"T_7a53e_row1_col4\" class=\"data row1 col4\" >-109582</td>\n",
       "            </tr>\n",
       "            <tr>\n",
       "                        <th id=\"T_7a53e_level0_row2\" class=\"row_heading level0 row2\" >2</th>\n",
       "                        <td id=\"T_7a53e_row2_col0\" class=\"data row2 col0\" >Jet (kl)</td>\n",
       "                        <td id=\"T_7a53e_row2_col1\" class=\"data row2 col1\" ></td>\n",
       "                        <td id=\"T_7a53e_row2_col2\" class=\"data row2 col2\" >820954</td>\n",
       "                        <td id=\"T_7a53e_row2_col3\" class=\"data row2 col3\" >901391</td>\n",
       "                        <td id=\"T_7a53e_row2_col4\" class=\"data row2 col4\" >-80437</td>\n",
       "            </tr>\n",
       "            <tr>\n",
       "                        <th id=\"T_7a53e_level0_row3\" class=\"row_heading level0 row3\" >3</th>\n",
       "                        <td id=\"T_7a53e_row3_col0\" class=\"data row3 col0\" >Kerosene (kl)</td>\n",
       "                        <td id=\"T_7a53e_row3_col1\" class=\"data row3 col1\" ></td>\n",
       "                        <td id=\"T_7a53e_row3_col2\" class=\"data row3 col2\" >2138160</td>\n",
       "                        <td id=\"T_7a53e_row3_col3\" class=\"data row3 col3\" >2232033</td>\n",
       "                        <td id=\"T_7a53e_row3_col4\" class=\"data row3 col4\" >-93873</td>\n",
       "            </tr>\n",
       "            <tr>\n",
       "                        <th id=\"T_7a53e_level0_row4\" class=\"row_heading level0 row4\" >4</th>\n",
       "                        <td id=\"T_7a53e_row4_col0\" class=\"data row4 col0\" >Gas Oil(Diesel) (kl)</td>\n",
       "                        <td id=\"T_7a53e_row4_col1\" class=\"data row4 col1\" ></td>\n",
       "                        <td id=\"T_7a53e_row4_col2\" class=\"data row4 col2\" >1589100</td>\n",
       "                        <td id=\"T_7a53e_row4_col3\" class=\"data row4 col3\" >1429970</td>\n",
       "                        <td id=\"T_7a53e_row4_col4\" class=\"data row4 col4\" >159130</td>\n",
       "            </tr>\n",
       "            <tr>\n",
       "                        <th id=\"T_7a53e_level0_row5\" class=\"row_heading level0 row5\" >5</th>\n",
       "                        <td id=\"T_7a53e_row5_col0\" class=\"data row5 col0\" >LSA (kl)</td>\n",
       "                        <td id=\"T_7a53e_row5_col1\" class=\"data row5 col1\" >Sul under 0.1%</td>\n",
       "                        <td id=\"T_7a53e_row5_col2\" class=\"data row5 col2\" >291438</td>\n",
       "                        <td id=\"T_7a53e_row5_col3\" class=\"data row5 col3\" >287422</td>\n",
       "                        <td id=\"T_7a53e_row5_col4\" class=\"data row5 col4\" >4016</td>\n",
       "            </tr>\n",
       "            <tr>\n",
       "                        <th id=\"T_7a53e_level0_row6\" class=\"row_heading level0 row6\" >6</th>\n",
       "                        <td id=\"T_7a53e_row6_col0\" class=\"data row6 col0\" >HSA (kl)</td>\n",
       "                        <td id=\"T_7a53e_row6_col1\" class=\"data row6 col1\" >Sul over 0.1%</td>\n",
       "                        <td id=\"T_7a53e_row6_col2\" class=\"data row6 col2\" >467395</td>\n",
       "                        <td id=\"T_7a53e_row6_col3\" class=\"data row6 col3\" >481722</td>\n",
       "                        <td id=\"T_7a53e_row6_col4\" class=\"data row6 col4\" >-14327</td>\n",
       "            </tr>\n",
       "            <tr>\n",
       "                        <th id=\"T_7a53e_level0_row7\" class=\"row_heading level0 row7\" >7</th>\n",
       "                        <td id=\"T_7a53e_row7_col0\" class=\"data row7 col0\" >AFO (kl)</td>\n",
       "                        <td id=\"T_7a53e_row7_col1\" class=\"data row7 col1\" ></td>\n",
       "                        <td id=\"T_7a53e_row7_col2\" class=\"data row7 col2\" >758833</td>\n",
       "                        <td id=\"T_7a53e_row7_col3\" class=\"data row7 col3\" >769144</td>\n",
       "                        <td id=\"T_7a53e_row7_col4\" class=\"data row7 col4\" >-10311</td>\n",
       "            </tr>\n",
       "            <tr>\n",
       "                        <th id=\"T_7a53e_level0_row8\" class=\"row_heading level0 row8\" >8</th>\n",
       "                        <td id=\"T_7a53e_row8_col0\" class=\"data row8 col0\" >LSC (kl)</td>\n",
       "                        <td id=\"T_7a53e_row8_col1\" class=\"data row8 col1\" >Sul under 0.5%</td>\n",
       "                        <td id=\"T_7a53e_row8_col2\" class=\"data row8 col2\" >719390</td>\n",
       "                        <td id=\"T_7a53e_row8_col3\" class=\"data row8 col3\" >721488</td>\n",
       "                        <td id=\"T_7a53e_row8_col4\" class=\"data row8 col4\" >-2098</td>\n",
       "            </tr>\n",
       "            <tr>\n",
       "                        <th id=\"T_7a53e_level0_row9\" class=\"row_heading level0 row9\" >9</th>\n",
       "                        <td id=\"T_7a53e_row9_col0\" class=\"data row9 col0\" >HSC (kl)</td>\n",
       "                        <td id=\"T_7a53e_row9_col1\" class=\"data row9 col1\" >Sul over 0.5%</td>\n",
       "                        <td id=\"T_7a53e_row9_col2\" class=\"data row9 col2\" >1114667</td>\n",
       "                        <td id=\"T_7a53e_row9_col3\" class=\"data row9 col3\" >1100528</td>\n",
       "                        <td id=\"T_7a53e_row9_col4\" class=\"data row9 col4\" >14139</td>\n",
       "            </tr>\n",
       "            <tr>\n",
       "                        <th id=\"T_7a53e_level0_row10\" class=\"row_heading level0 row10\" >10</th>\n",
       "                        <td id=\"T_7a53e_row10_col0\" class=\"data row10 col0\" >CFO (kl)</td>\n",
       "                        <td id=\"T_7a53e_row10_col1\" class=\"data row10 col1\" ></td>\n",
       "                        <td id=\"T_7a53e_row10_col2\" class=\"data row10 col2\" >1834057</td>\n",
       "                        <td id=\"T_7a53e_row10_col3\" class=\"data row10 col3\" >1822016</td>\n",
       "                        <td id=\"T_7a53e_row10_col4\" class=\"data row10 col4\" >12041</td>\n",
       "            </tr>\n",
       "            <tr>\n",
       "                        <th id=\"T_7a53e_level0_row11\" class=\"row_heading level0 row11\" >11</th>\n",
       "                        <td id=\"T_7a53e_row11_col0\" class=\"data row11 col0\" >Total (kl)</td>\n",
       "                        <td id=\"T_7a53e_row11_col1\" class=\"data row11 col1\" ></td>\n",
       "                        <td id=\"T_7a53e_row11_col2\" class=\"data row11 col2\" >9985295</td>\n",
       "                        <td id=\"T_7a53e_row11_col3\" class=\"data row11 col3\" >10159005</td>\n",
       "                        <td id=\"T_7a53e_row11_col4\" class=\"data row11 col4\" >-173710</td>\n",
       "            </tr>\n",
       "    </tbody></table>"
      ],
      "text/plain": [
       "<pandas.io.formats.style.Styler at 0x13ebfab8a00>"
      ]
     },
     "execution_count": 195,
     "metadata": {},
     "output_type": "execute_result"
    }
   ],
   "source": [
    "products_stocks.style.set_properties(**{'text-align': 'center'})"
   ]
  },
  {
   "cell_type": "markdown",
   "id": "2f1fb573",
   "metadata": {},
   "source": [
    "## 3.Crude, Unfinished Oil and Feed Stocks"
   ]
  },
  {
   "cell_type": "code",
   "execution_count": 164,
   "id": "a7e9b09b",
   "metadata": {},
   "outputs": [
    {
     "name": "stderr",
     "output_type": "stream",
     "text": [
      "C:\\Users\\Kapa\\AppData\\Local\\Temp/ipykernel_6484/1168376118.py:1: DeprecationWarning: find_elements_by_* commands are deprecated. Please use find_elements() instead\n",
      "  target = driver.find_elements_by_xpath(\"(//TABLE[@cellpadding='5'])[4]\")\n"
     ]
    }
   ],
   "source": [
    "target = driver.find_elements_by_xpath(\"(//TABLE[@cellpadding='5'])[4]\")\n",
    "crude_oil = pd.read_html(target[0].get_attribute('outerHTML'),header=0)[0]"
   ]
  },
  {
   "cell_type": "code",
   "execution_count": 165,
   "id": "b7f6521d",
   "metadata": {},
   "outputs": [],
   "source": [
    "crude_oil = crude_oil.rename(columns={'Unnamed: 0': 'Materials',\\\n",
    "                        'Current Week02/Jan/2022-08/Jan': 'Current Week 02/Jan/2022-08/Jan',\\\n",
    "                        'Last Week26/Dec/2021-01/Jan': 'Last Week 26/Dec/2021-01/Jan'})\n",
    "crude_oil['Materials'] = crude_oil['Materials'] + ' (kl)'"
   ]
  },
  {
   "cell_type": "code",
   "execution_count": 167,
   "id": "f5b13937",
   "metadata": {},
   "outputs": [],
   "source": [
    "crude_oil.to_csv('crude_oil.csv',index=False)"
   ]
  },
  {
   "cell_type": "code",
   "execution_count": 194,
   "id": "47584f68",
   "metadata": {},
   "outputs": [
    {
     "data": {
      "text/html": [
       "<div>\n",
       "<style scoped>\n",
       "    .dataframe tbody tr th:only-of-type {\n",
       "        vertical-align: middle;\n",
       "    }\n",
       "\n",
       "    .dataframe tbody tr th {\n",
       "        vertical-align: top;\n",
       "    }\n",
       "\n",
       "    .dataframe thead th {\n",
       "        text-align: right;\n",
       "    }\n",
       "</style>\n",
       "<table border=\"1\" class=\"dataframe\">\n",
       "  <thead>\n",
       "    <tr style=\"text-align: right;\">\n",
       "      <th></th>\n",
       "      <th>Materials</th>\n",
       "      <th>Current Week 02/Jan/2022-08/Jan</th>\n",
       "      <th>Last Week 26/Dec/2021-01/Jan</th>\n",
       "      <th>Change from Last Week</th>\n",
       "    </tr>\n",
       "  </thead>\n",
       "  <tbody>\n",
       "    <tr>\n",
       "      <th>0</th>\n",
       "      <td>Crude Oil (kl)</td>\n",
       "      <td>8957728</td>\n",
       "      <td>9219435</td>\n",
       "      <td>-261707</td>\n",
       "    </tr>\n",
       "    <tr>\n",
       "      <th>1</th>\n",
       "      <td>Unfinished Gasoline (kl)</td>\n",
       "      <td>2211584</td>\n",
       "      <td>2150215</td>\n",
       "      <td>61369</td>\n",
       "    </tr>\n",
       "    <tr>\n",
       "      <th>2</th>\n",
       "      <td>Unfinished Kerosene (kl)</td>\n",
       "      <td>463069</td>\n",
       "      <td>432746</td>\n",
       "      <td>30323</td>\n",
       "    </tr>\n",
       "    <tr>\n",
       "      <th>3</th>\n",
       "      <td>Unfinished Gas Oil (kl)</td>\n",
       "      <td>911900</td>\n",
       "      <td>864323</td>\n",
       "      <td>47577</td>\n",
       "    </tr>\n",
       "    <tr>\n",
       "      <th>4</th>\n",
       "      <td>Unfinished AFO (kl)</td>\n",
       "      <td>698385</td>\n",
       "      <td>669524</td>\n",
       "      <td>28861</td>\n",
       "    </tr>\n",
       "    <tr>\n",
       "      <th>5</th>\n",
       "      <td>Feed Stocks (kl)</td>\n",
       "      <td>2902572</td>\n",
       "      <td>2886164</td>\n",
       "      <td>16408</td>\n",
       "    </tr>\n",
       "    <tr>\n",
       "      <th>6</th>\n",
       "      <td>Total (kl)</td>\n",
       "      <td>7187510</td>\n",
       "      <td>7002972</td>\n",
       "      <td>184538</td>\n",
       "    </tr>\n",
       "  </tbody>\n",
       "</table>\n",
       "</div>"
      ],
      "text/plain": [
       "                  Materials  Current Week 02/Jan/2022-08/Jan  \\\n",
       "0            Crude Oil (kl)                          8957728   \n",
       "1  Unfinished Gasoline (kl)                          2211584   \n",
       "2  Unfinished Kerosene (kl)                           463069   \n",
       "3   Unfinished Gas Oil (kl)                           911900   \n",
       "4       Unfinished AFO (kl)                           698385   \n",
       "5          Feed Stocks (kl)                          2902572   \n",
       "6                Total (kl)                          7187510   \n",
       "\n",
       "   Last Week 26/Dec/2021-01/Jan  Change from Last Week  \n",
       "0                       9219435                -261707  \n",
       "1                       2150215                  61369  \n",
       "2                        432746                  30323  \n",
       "3                        864323                  47577  \n",
       "4                        669524                  28861  \n",
       "5                       2886164                  16408  \n",
       "6                       7002972                 184538  "
      ]
     },
     "execution_count": 194,
     "metadata": {},
     "output_type": "execute_result"
    }
   ],
   "source": [
    "crude_oil"
   ]
  },
  {
   "cell_type": "markdown",
   "id": "648db817",
   "metadata": {},
   "source": [
    "## 4.Refinery Production"
   ]
  },
  {
   "cell_type": "code",
   "execution_count": 168,
   "id": "bdb3ce46",
   "metadata": {},
   "outputs": [
    {
     "name": "stderr",
     "output_type": "stream",
     "text": [
      "C:\\Users\\Kapa\\AppData\\Local\\Temp/ipykernel_6484/961327901.py:1: DeprecationWarning: find_elements_by_* commands are deprecated. Please use find_elements() instead\n",
      "  target = driver.find_elements_by_xpath(\"(//TABLE[@cellpadding='5'])[5]\")\n"
     ]
    }
   ],
   "source": [
    "target = driver.find_elements_by_xpath(\"(//TABLE[@cellpadding='5'])[5]\")\n",
    "refinery_production = pd.read_html(target[0].get_attribute('outerHTML'),header=0)[0]"
   ]
  },
  {
   "cell_type": "code",
   "execution_count": 169,
   "id": "89a4cf01",
   "metadata": {},
   "outputs": [],
   "source": [
    "refinery_production = refinery_production.rename(columns={'Unnamed: 0': 'Products','Unnamed: 1': 'Characteristics',\\\n",
    "                        'Current Week02/Jan/2022-08/Jan': 'Current Week 02/Jan/2022-08/Jan',\\\n",
    "                        'Last Week26/Dec/2021-01/Jan': 'Last Week 26/Dec/2021-01/Jan'})\n",
    "refinery_production['Products'] = refinery_production['Products'] + ' (kl)'"
   ]
  },
  {
   "cell_type": "code",
   "execution_count": 170,
   "id": "c25f2d47",
   "metadata": {},
   "outputs": [],
   "source": [
    "refinery_production.fillna('',inplace=True)"
   ]
  },
  {
   "cell_type": "code",
   "execution_count": 172,
   "id": "3c34193b",
   "metadata": {},
   "outputs": [],
   "source": [
    "refinery_production.to_csv('refinery_production.csv',index=False)"
   ]
  },
  {
   "cell_type": "code",
   "execution_count": 193,
   "id": "0530b40b",
   "metadata": {},
   "outputs": [
    {
     "data": {
      "text/html": [
       "<div>\n",
       "<style scoped>\n",
       "    .dataframe tbody tr th:only-of-type {\n",
       "        vertical-align: middle;\n",
       "    }\n",
       "\n",
       "    .dataframe tbody tr th {\n",
       "        vertical-align: top;\n",
       "    }\n",
       "\n",
       "    .dataframe thead th {\n",
       "        text-align: right;\n",
       "    }\n",
       "</style>\n",
       "<table border=\"1\" class=\"dataframe\">\n",
       "  <thead>\n",
       "    <tr style=\"text-align: right;\">\n",
       "      <th></th>\n",
       "      <th>Products</th>\n",
       "      <th>Characteristics</th>\n",
       "      <th>Current Week 02/Jan/2022-08/Jan</th>\n",
       "      <th>Last Week 26/Dec/2021-01/Jan</th>\n",
       "      <th>Change from Last Week</th>\n",
       "    </tr>\n",
       "  </thead>\n",
       "  <tbody>\n",
       "    <tr>\n",
       "      <th>0</th>\n",
       "      <td>Gasoline (kl)</td>\n",
       "      <td></td>\n",
       "      <td>934924</td>\n",
       "      <td>965131</td>\n",
       "      <td>-30207</td>\n",
       "    </tr>\n",
       "    <tr>\n",
       "      <th>1</th>\n",
       "      <td>Naphtha (kl)</td>\n",
       "      <td></td>\n",
       "      <td>357264</td>\n",
       "      <td>237643</td>\n",
       "      <td>119621</td>\n",
       "    </tr>\n",
       "    <tr>\n",
       "      <th>2</th>\n",
       "      <td>Jet (kl)</td>\n",
       "      <td></td>\n",
       "      <td>114249</td>\n",
       "      <td>166599</td>\n",
       "      <td>-52350</td>\n",
       "    </tr>\n",
       "    <tr>\n",
       "      <th>3</th>\n",
       "      <td>Kerosene (kl)</td>\n",
       "      <td></td>\n",
       "      <td>457687</td>\n",
       "      <td>347108</td>\n",
       "      <td>110579</td>\n",
       "    </tr>\n",
       "    <tr>\n",
       "      <th>4</th>\n",
       "      <td>Gas Oil(Diesel) (kl)</td>\n",
       "      <td></td>\n",
       "      <td>685574</td>\n",
       "      <td>688134</td>\n",
       "      <td>-2560</td>\n",
       "    </tr>\n",
       "    <tr>\n",
       "      <th>5</th>\n",
       "      <td>LSA (kl)</td>\n",
       "      <td>Sul under 0.1%</td>\n",
       "      <td>112171</td>\n",
       "      <td>96300</td>\n",
       "      <td>15871</td>\n",
       "    </tr>\n",
       "    <tr>\n",
       "      <th>6</th>\n",
       "      <td>HSA (kl)</td>\n",
       "      <td>Sul over 0.1%</td>\n",
       "      <td>102082</td>\n",
       "      <td>112989</td>\n",
       "      <td>-10907</td>\n",
       "    </tr>\n",
       "    <tr>\n",
       "      <th>7</th>\n",
       "      <td>AFO (kl)</td>\n",
       "      <td></td>\n",
       "      <td>214253</td>\n",
       "      <td>209289</td>\n",
       "      <td>4964</td>\n",
       "    </tr>\n",
       "    <tr>\n",
       "      <th>8</th>\n",
       "      <td>LSC (kl)</td>\n",
       "      <td>Sul under 0.5%</td>\n",
       "      <td>110646</td>\n",
       "      <td>122516</td>\n",
       "      <td>-11870</td>\n",
       "    </tr>\n",
       "    <tr>\n",
       "      <th>9</th>\n",
       "      <td>HSC (kl)</td>\n",
       "      <td>Sul over 0.5%</td>\n",
       "      <td>165878</td>\n",
       "      <td>120087</td>\n",
       "      <td>45791</td>\n",
       "    </tr>\n",
       "    <tr>\n",
       "      <th>10</th>\n",
       "      <td>CFO (kl)</td>\n",
       "      <td></td>\n",
       "      <td>276524</td>\n",
       "      <td>242603</td>\n",
       "      <td>33921</td>\n",
       "    </tr>\n",
       "    <tr>\n",
       "      <th>11</th>\n",
       "      <td>Total (kl)</td>\n",
       "      <td></td>\n",
       "      <td>3040475</td>\n",
       "      <td>2856507</td>\n",
       "      <td>183968</td>\n",
       "    </tr>\n",
       "  </tbody>\n",
       "</table>\n",
       "</div>"
      ],
      "text/plain": [
       "                Products Characteristics  Current Week 02/Jan/2022-08/Jan  \\\n",
       "0          Gasoline (kl)                                           934924   \n",
       "1           Naphtha (kl)                                           357264   \n",
       "2               Jet (kl)                                           114249   \n",
       "3          Kerosene (kl)                                           457687   \n",
       "4   Gas Oil(Diesel) (kl)                                           685574   \n",
       "5               LSA (kl)  Sul under 0.1%                           112171   \n",
       "6               HSA (kl)   Sul over 0.1%                           102082   \n",
       "7               AFO (kl)                                           214253   \n",
       "8               LSC (kl)  Sul under 0.5%                           110646   \n",
       "9               HSC (kl)   Sul over 0.5%                           165878   \n",
       "10              CFO (kl)                                           276524   \n",
       "11            Total (kl)                                          3040475   \n",
       "\n",
       "    Last Week 26/Dec/2021-01/Jan  Change from Last Week  \n",
       "0                         965131                 -30207  \n",
       "1                         237643                 119621  \n",
       "2                         166599                 -52350  \n",
       "3                         347108                 110579  \n",
       "4                         688134                  -2560  \n",
       "5                          96300                  15871  \n",
       "6                         112989                 -10907  \n",
       "7                         209289                   4964  \n",
       "8                         122516                 -11870  \n",
       "9                         120087                  45791  \n",
       "10                        242603                  33921  \n",
       "11                       2856507                 183968  "
      ]
     },
     "execution_count": 193,
     "metadata": {},
     "output_type": "execute_result"
    }
   ],
   "source": [
    "refinery_production"
   ]
  },
  {
   "cell_type": "markdown",
   "id": "771b993f",
   "metadata": {},
   "source": [
    "## 5.Imports"
   ]
  },
  {
   "cell_type": "code",
   "execution_count": 173,
   "id": "0907e1a3",
   "metadata": {},
   "outputs": [
    {
     "name": "stderr",
     "output_type": "stream",
     "text": [
      "C:\\Users\\Kapa\\AppData\\Local\\Temp/ipykernel_6484/176732812.py:1: DeprecationWarning: find_elements_by_* commands are deprecated. Please use find_elements() instead\n",
      "  target = driver.find_elements_by_xpath(\"(//TABLE[@cellpadding='5'])[6]\")\n"
     ]
    }
   ],
   "source": [
    "target = driver.find_elements_by_xpath(\"(//TABLE[@cellpadding='5'])[6]\")\n",
    "imports = pd.read_html(target[0].get_attribute('outerHTML'),header=0)[0]"
   ]
  },
  {
   "cell_type": "code",
   "execution_count": 174,
   "id": "cc32d5c7",
   "metadata": {},
   "outputs": [],
   "source": [
    "imports = imports.rename(columns={'Unnamed: 0': 'Products','Unnamed: 1': 'Characteristics',\\\n",
    "                        'Current Week02/Jan/2022-08/Jan': 'Current Week 02/Jan/2022-08/Jan',\\\n",
    "                        'Last Week26/Dec/2021-01/Jan': 'Last Week 26/Dec/2021-01/Jan'})\n",
    "imports['Products'] = imports['Products'] + ' (kl)'"
   ]
  },
  {
   "cell_type": "code",
   "execution_count": 175,
   "id": "2d5f477a",
   "metadata": {},
   "outputs": [],
   "source": [
    "imports.fillna('',inplace=True)"
   ]
  },
  {
   "cell_type": "code",
   "execution_count": 176,
   "id": "2753fd98",
   "metadata": {},
   "outputs": [],
   "source": [
    "imports.replace('n.a.','Missing',inplace=True)"
   ]
  },
  {
   "cell_type": "code",
   "execution_count": 178,
   "id": "3d8e21c3",
   "metadata": {},
   "outputs": [],
   "source": [
    "imports.to_csv('imports.csv',index=False)"
   ]
  },
  {
   "cell_type": "code",
   "execution_count": 192,
   "id": "a0638a0e",
   "metadata": {},
   "outputs": [
    {
     "data": {
      "text/html": [
       "<div>\n",
       "<style scoped>\n",
       "    .dataframe tbody tr th:only-of-type {\n",
       "        vertical-align: middle;\n",
       "    }\n",
       "\n",
       "    .dataframe tbody tr th {\n",
       "        vertical-align: top;\n",
       "    }\n",
       "\n",
       "    .dataframe thead th {\n",
       "        text-align: right;\n",
       "    }\n",
       "</style>\n",
       "<table border=\"1\" class=\"dataframe\">\n",
       "  <thead>\n",
       "    <tr style=\"text-align: right;\">\n",
       "      <th></th>\n",
       "      <th>Products</th>\n",
       "      <th>Characteristics</th>\n",
       "      <th>Current Week 02/Jan/2022-08/Jan</th>\n",
       "      <th>Last Week 26/Dec/2021-01/Jan</th>\n",
       "      <th>Change from Last Week</th>\n",
       "    </tr>\n",
       "  </thead>\n",
       "  <tbody>\n",
       "    <tr>\n",
       "      <th>0</th>\n",
       "      <td>Gasoline (kl)</td>\n",
       "      <td></td>\n",
       "      <td>Missing</td>\n",
       "      <td>Missing</td>\n",
       "      <td>Missing</td>\n",
       "    </tr>\n",
       "    <tr>\n",
       "      <th>1</th>\n",
       "      <td>Naphtha (kl)</td>\n",
       "      <td></td>\n",
       "      <td>Missing</td>\n",
       "      <td>Missing</td>\n",
       "      <td>Missing</td>\n",
       "    </tr>\n",
       "    <tr>\n",
       "      <th>2</th>\n",
       "      <td>Jet (kl)</td>\n",
       "      <td></td>\n",
       "      <td>Missing</td>\n",
       "      <td>Missing</td>\n",
       "      <td>Missing</td>\n",
       "    </tr>\n",
       "    <tr>\n",
       "      <th>3</th>\n",
       "      <td>Kerosene (kl)</td>\n",
       "      <td></td>\n",
       "      <td>Missing</td>\n",
       "      <td>Missing</td>\n",
       "      <td>Missing</td>\n",
       "    </tr>\n",
       "    <tr>\n",
       "      <th>4</th>\n",
       "      <td>Gas Oil(Diesel) (kl)</td>\n",
       "      <td></td>\n",
       "      <td>Missing</td>\n",
       "      <td>Missing</td>\n",
       "      <td>Missing</td>\n",
       "    </tr>\n",
       "    <tr>\n",
       "      <th>5</th>\n",
       "      <td>LSA (kl)</td>\n",
       "      <td>Sul under 0.1%</td>\n",
       "      <td>Missing</td>\n",
       "      <td>Missing</td>\n",
       "      <td>Missing</td>\n",
       "    </tr>\n",
       "    <tr>\n",
       "      <th>6</th>\n",
       "      <td>HSA (kl)</td>\n",
       "      <td>Sul over 0.1%</td>\n",
       "      <td>Missing</td>\n",
       "      <td>Missing</td>\n",
       "      <td>Missing</td>\n",
       "    </tr>\n",
       "    <tr>\n",
       "      <th>7</th>\n",
       "      <td>AFO (kl)</td>\n",
       "      <td></td>\n",
       "      <td>Missing</td>\n",
       "      <td>Missing</td>\n",
       "      <td>Missing</td>\n",
       "    </tr>\n",
       "    <tr>\n",
       "      <th>8</th>\n",
       "      <td>LSC (kl)</td>\n",
       "      <td>Sul under 0.5%</td>\n",
       "      <td>33483</td>\n",
       "      <td>4502</td>\n",
       "      <td>28981</td>\n",
       "    </tr>\n",
       "    <tr>\n",
       "      <th>9</th>\n",
       "      <td>HSC (kl)</td>\n",
       "      <td>Sul over 0.5%</td>\n",
       "      <td>48829</td>\n",
       "      <td>36242</td>\n",
       "      <td>12587</td>\n",
       "    </tr>\n",
       "    <tr>\n",
       "      <th>10</th>\n",
       "      <td>CFO (kl)</td>\n",
       "      <td></td>\n",
       "      <td>82312</td>\n",
       "      <td>40744</td>\n",
       "      <td>41568</td>\n",
       "    </tr>\n",
       "    <tr>\n",
       "      <th>11</th>\n",
       "      <td>Total (kl)</td>\n",
       "      <td></td>\n",
       "      <td>Missing</td>\n",
       "      <td>Missing</td>\n",
       "      <td>Missing</td>\n",
       "    </tr>\n",
       "  </tbody>\n",
       "</table>\n",
       "</div>"
      ],
      "text/plain": [
       "                Products Characteristics Current Week 02/Jan/2022-08/Jan  \\\n",
       "0          Gasoline (kl)                                         Missing   \n",
       "1           Naphtha (kl)                                         Missing   \n",
       "2               Jet (kl)                                         Missing   \n",
       "3          Kerosene (kl)                                         Missing   \n",
       "4   Gas Oil(Diesel) (kl)                                         Missing   \n",
       "5               LSA (kl)  Sul under 0.1%                         Missing   \n",
       "6               HSA (kl)   Sul over 0.1%                         Missing   \n",
       "7               AFO (kl)                                         Missing   \n",
       "8               LSC (kl)  Sul under 0.5%                           33483   \n",
       "9               HSC (kl)   Sul over 0.5%                           48829   \n",
       "10              CFO (kl)                                           82312   \n",
       "11            Total (kl)                                         Missing   \n",
       "\n",
       "   Last Week 26/Dec/2021-01/Jan Change from Last Week  \n",
       "0                       Missing               Missing  \n",
       "1                       Missing               Missing  \n",
       "2                       Missing               Missing  \n",
       "3                       Missing               Missing  \n",
       "4                       Missing               Missing  \n",
       "5                       Missing               Missing  \n",
       "6                       Missing               Missing  \n",
       "7                       Missing               Missing  \n",
       "8                          4502                 28981  \n",
       "9                         36242                 12587  \n",
       "10                        40744                 41568  \n",
       "11                      Missing               Missing  "
      ]
     },
     "execution_count": 192,
     "metadata": {},
     "output_type": "execute_result"
    }
   ],
   "source": [
    "imports"
   ]
  },
  {
   "cell_type": "markdown",
   "id": "9cbd5549",
   "metadata": {},
   "source": [
    "## 6.Exports"
   ]
  },
  {
   "cell_type": "code",
   "execution_count": 179,
   "id": "8f236e6d",
   "metadata": {},
   "outputs": [
    {
     "name": "stderr",
     "output_type": "stream",
     "text": [
      "C:\\Users\\Kapa\\AppData\\Local\\Temp/ipykernel_6484/2328492393.py:1: DeprecationWarning: find_elements_by_* commands are deprecated. Please use find_elements() instead\n",
      "  target = driver.find_elements_by_xpath(\"(//TABLE[@cellpadding='5'])[7]\")\n"
     ]
    }
   ],
   "source": [
    "target = driver.find_elements_by_xpath(\"(//TABLE[@cellpadding='5'])[7]\")\n",
    "exports = pd.read_html(target[0].get_attribute('outerHTML'),header=0)[0]"
   ]
  },
  {
   "cell_type": "code",
   "execution_count": 180,
   "id": "33cf9fad",
   "metadata": {},
   "outputs": [],
   "source": [
    "exports = exports.rename(columns={'Unnamed: 0': 'Products','Unnamed: 1': 'Characteristics',\\\n",
    "                        'Current Week02/Jan/2022-08/Jan': 'Current Week 02/Jan/2022-08/Jan',\\\n",
    "                        'Last Week26/Dec/2021-01/Jan': 'Last Week 26/Dec/2021-01/Jan'})\n",
    "exports['Products'] = exports['Products'] + ' (kl)'"
   ]
  },
  {
   "cell_type": "code",
   "execution_count": 181,
   "id": "618f9ffd",
   "metadata": {},
   "outputs": [],
   "source": [
    "exports.fillna('',inplace=True)"
   ]
  },
  {
   "cell_type": "code",
   "execution_count": 183,
   "id": "35f6f778",
   "metadata": {},
   "outputs": [],
   "source": [
    "exports.to_csv('exports.csv',index=False)"
   ]
  },
  {
   "cell_type": "code",
   "execution_count": 190,
   "id": "0fe1d15b",
   "metadata": {},
   "outputs": [
    {
     "data": {
      "text/html": [
       "<div>\n",
       "<style scoped>\n",
       "    .dataframe tbody tr th:only-of-type {\n",
       "        vertical-align: middle;\n",
       "    }\n",
       "\n",
       "    .dataframe tbody tr th {\n",
       "        vertical-align: top;\n",
       "    }\n",
       "\n",
       "    .dataframe thead th {\n",
       "        text-align: right;\n",
       "    }\n",
       "</style>\n",
       "<table border=\"1\" class=\"dataframe\">\n",
       "  <thead>\n",
       "    <tr style=\"text-align: right;\">\n",
       "      <th></th>\n",
       "      <th>Products</th>\n",
       "      <th>Characteristics</th>\n",
       "      <th>Current Week 02/Jan/2022-08/Jan</th>\n",
       "      <th>Last Week 26/Dec/2021-01/Jan</th>\n",
       "      <th>Change from Last Week</th>\n",
       "    </tr>\n",
       "  </thead>\n",
       "  <tbody>\n",
       "    <tr>\n",
       "      <th>0</th>\n",
       "      <td>Gasoline (kl)</td>\n",
       "      <td></td>\n",
       "      <td>127826</td>\n",
       "      <td>80724</td>\n",
       "      <td>47102</td>\n",
       "    </tr>\n",
       "    <tr>\n",
       "      <th>1</th>\n",
       "      <td>Naphtha (kl)</td>\n",
       "      <td></td>\n",
       "      <td>0</td>\n",
       "      <td>0</td>\n",
       "      <td>0</td>\n",
       "    </tr>\n",
       "    <tr>\n",
       "      <th>2</th>\n",
       "      <td>Jet (kl)</td>\n",
       "      <td></td>\n",
       "      <td>79223</td>\n",
       "      <td>109418</td>\n",
       "      <td>-30195</td>\n",
       "    </tr>\n",
       "    <tr>\n",
       "      <th>3</th>\n",
       "      <td>Kerosene (kl)</td>\n",
       "      <td></td>\n",
       "      <td>49266</td>\n",
       "      <td>0</td>\n",
       "      <td>49266</td>\n",
       "    </tr>\n",
       "    <tr>\n",
       "      <th>4</th>\n",
       "      <td>Gas Oil(Diesel) (kl)</td>\n",
       "      <td></td>\n",
       "      <td>107327</td>\n",
       "      <td>246598</td>\n",
       "      <td>-139271</td>\n",
       "    </tr>\n",
       "    <tr>\n",
       "      <th>5</th>\n",
       "      <td>LSA (kl)</td>\n",
       "      <td>Sul under 0.1%</td>\n",
       "      <td>0</td>\n",
       "      <td>402</td>\n",
       "      <td>-402</td>\n",
       "    </tr>\n",
       "    <tr>\n",
       "      <th>6</th>\n",
       "      <td>HSA (kl)</td>\n",
       "      <td>Sul over 0.1%</td>\n",
       "      <td>0</td>\n",
       "      <td>0</td>\n",
       "      <td>0</td>\n",
       "    </tr>\n",
       "    <tr>\n",
       "      <th>7</th>\n",
       "      <td>AFO (kl)</td>\n",
       "      <td></td>\n",
       "      <td>0</td>\n",
       "      <td>402</td>\n",
       "      <td>-402</td>\n",
       "    </tr>\n",
       "    <tr>\n",
       "      <th>8</th>\n",
       "      <td>LSC (kl)</td>\n",
       "      <td>Sul under 0.5%</td>\n",
       "      <td>59559</td>\n",
       "      <td>21535</td>\n",
       "      <td>38024</td>\n",
       "    </tr>\n",
       "    <tr>\n",
       "      <th>9</th>\n",
       "      <td>HSC (kl)</td>\n",
       "      <td>Sul over 0.5%</td>\n",
       "      <td>44373</td>\n",
       "      <td>53349</td>\n",
       "      <td>-8976</td>\n",
       "    </tr>\n",
       "    <tr>\n",
       "      <th>10</th>\n",
       "      <td>CFO (kl)</td>\n",
       "      <td></td>\n",
       "      <td>103932</td>\n",
       "      <td>74884</td>\n",
       "      <td>29048</td>\n",
       "    </tr>\n",
       "    <tr>\n",
       "      <th>11</th>\n",
       "      <td>Total (kl)</td>\n",
       "      <td></td>\n",
       "      <td>467574</td>\n",
       "      <td>512026</td>\n",
       "      <td>-44452</td>\n",
       "    </tr>\n",
       "  </tbody>\n",
       "</table>\n",
       "</div>"
      ],
      "text/plain": [
       "                Products Characteristics  Current Week 02/Jan/2022-08/Jan  \\\n",
       "0          Gasoline (kl)                                           127826   \n",
       "1           Naphtha (kl)                                                0   \n",
       "2               Jet (kl)                                            79223   \n",
       "3          Kerosene (kl)                                            49266   \n",
       "4   Gas Oil(Diesel) (kl)                                           107327   \n",
       "5               LSA (kl)  Sul under 0.1%                                0   \n",
       "6               HSA (kl)   Sul over 0.1%                                0   \n",
       "7               AFO (kl)                                                0   \n",
       "8               LSC (kl)  Sul under 0.5%                            59559   \n",
       "9               HSC (kl)   Sul over 0.5%                            44373   \n",
       "10              CFO (kl)                                           103932   \n",
       "11            Total (kl)                                           467574   \n",
       "\n",
       "    Last Week 26/Dec/2021-01/Jan  Change from Last Week  \n",
       "0                          80724                  47102  \n",
       "1                              0                      0  \n",
       "2                         109418                 -30195  \n",
       "3                              0                  49266  \n",
       "4                         246598                -139271  \n",
       "5                            402                   -402  \n",
       "6                              0                      0  \n",
       "7                            402                   -402  \n",
       "8                          21535                  38024  \n",
       "9                          53349                  -8976  \n",
       "10                         74884                  29048  \n",
       "11                        512026                 -44452  "
      ]
     },
     "execution_count": 190,
     "metadata": {},
     "output_type": "execute_result"
    }
   ],
   "source": [
    "exports"
   ]
  },
  {
   "cell_type": "markdown",
   "id": "93a21826",
   "metadata": {},
   "source": [
    "## References"
   ]
  },
  {
   "cell_type": "code",
   "execution_count": 184,
   "id": "60c592d8",
   "metadata": {},
   "outputs": [
    {
     "name": "stderr",
     "output_type": "stream",
     "text": [
      "C:\\Users\\Kapa\\AppData\\Local\\Temp/ipykernel_6484/1364444751.py:1: DeprecationWarning: find_elements_by_* commands are deprecated. Please use find_elements() instead\n",
      "  target = driver.find_elements_by_xpath(\"(//TABLE[@cellpadding='5'])[8]\")\n"
     ]
    }
   ],
   "source": [
    "target = driver.find_elements_by_xpath(\"(//TABLE[@cellpadding='5'])[8]\")\n",
    "references = pd.read_html(target[0].get_attribute('outerHTML'),header=0)[0]"
   ]
  },
  {
   "cell_type": "code",
   "execution_count": 185,
   "id": "f3916792",
   "metadata": {},
   "outputs": [],
   "source": [
    "references = references.rename(columns={'Unnamed: 0': 'Products','Average ImportsDec-Feb':'Average Imports Dec-Feb'})\n",
    "references['Products'] = references['Products'] + ' (kl)'"
   ]
  },
  {
   "cell_type": "code",
   "execution_count": 186,
   "id": "0cab21a0",
   "metadata": {},
   "outputs": [],
   "source": [
    "references.drop('Unnamed: 1',axis=1,inplace=True)"
   ]
  },
  {
   "cell_type": "code",
   "execution_count": 187,
   "id": "2da780ea",
   "metadata": {},
   "outputs": [],
   "source": [
    "references.replace('n.a.','Missing',inplace=True)"
   ]
  },
  {
   "cell_type": "code",
   "execution_count": 189,
   "id": "0e2847e2",
   "metadata": {},
   "outputs": [
    {
     "data": {
      "text/html": [
       "<div>\n",
       "<style scoped>\n",
       "    .dataframe tbody tr th:only-of-type {\n",
       "        vertical-align: middle;\n",
       "    }\n",
       "\n",
       "    .dataframe tbody tr th {\n",
       "        vertical-align: top;\n",
       "    }\n",
       "\n",
       "    .dataframe thead th {\n",
       "        text-align: right;\n",
       "    }\n",
       "</style>\n",
       "<table border=\"1\" class=\"dataframe\">\n",
       "  <thead>\n",
       "    <tr style=\"text-align: right;\">\n",
       "      <th></th>\n",
       "      <th>Products</th>\n",
       "      <th>Average Imports Dec-Feb</th>\n",
       "    </tr>\n",
       "  </thead>\n",
       "  <tbody>\n",
       "    <tr>\n",
       "      <th>0</th>\n",
       "      <td>Gasoline (kl)</td>\n",
       "      <td>37965</td>\n",
       "    </tr>\n",
       "    <tr>\n",
       "      <th>1</th>\n",
       "      <td>Naphtha (kl)</td>\n",
       "      <td>540309</td>\n",
       "    </tr>\n",
       "    <tr>\n",
       "      <th>2</th>\n",
       "      <td>Jet (kl)</td>\n",
       "      <td>6935</td>\n",
       "    </tr>\n",
       "    <tr>\n",
       "      <th>3</th>\n",
       "      <td>Kerosene (kl)</td>\n",
       "      <td>102604</td>\n",
       "    </tr>\n",
       "    <tr>\n",
       "      <th>4</th>\n",
       "      <td>Gas Oil(Diesel) (kl)</td>\n",
       "      <td>22066</td>\n",
       "    </tr>\n",
       "    <tr>\n",
       "      <th>5</th>\n",
       "      <td>AFO (kl)</td>\n",
       "      <td>1746</td>\n",
       "    </tr>\n",
       "    <tr>\n",
       "      <th>6</th>\n",
       "      <td>CFO (kl)</td>\n",
       "      <td>Missing</td>\n",
       "    </tr>\n",
       "  </tbody>\n",
       "</table>\n",
       "</div>"
      ],
      "text/plain": [
       "               Products Average Imports Dec-Feb\n",
       "0         Gasoline (kl)                   37965\n",
       "1          Naphtha (kl)                  540309\n",
       "2              Jet (kl)                    6935\n",
       "3         Kerosene (kl)                  102604\n",
       "4  Gas Oil(Diesel) (kl)                   22066\n",
       "5              AFO (kl)                    1746\n",
       "6              CFO (kl)                 Missing"
      ]
     },
     "execution_count": 189,
     "metadata": {},
     "output_type": "execute_result"
    }
   ],
   "source": [
    "references"
   ]
  },
  {
   "cell_type": "code",
   "execution_count": 191,
   "id": "10e143f4",
   "metadata": {},
   "outputs": [],
   "source": [
    "references.to_csv('references.csv',index=False)"
   ]
  },
  {
   "cell_type": "code",
   "execution_count": null,
   "id": "aa53634c",
   "metadata": {},
   "outputs": [],
   "source": []
  }
 ],
 "metadata": {
  "kernelspec": {
   "display_name": "Python 3 (ipykernel)",
   "language": "python",
   "name": "python3"
  },
  "language_info": {
   "codemirror_mode": {
    "name": "ipython",
    "version": 3
   },
   "file_extension": ".py",
   "mimetype": "text/x-python",
   "name": "python",
   "nbconvert_exporter": "python",
   "pygments_lexer": "ipython3",
   "version": "3.9.1"
  }
 },
 "nbformat": 4,
 "nbformat_minor": 5
}
